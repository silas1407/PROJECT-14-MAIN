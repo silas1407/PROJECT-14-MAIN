{
  "nbformat": 4,
  "nbformat_minor": 0,
  "metadata": {
    "colab": {
      "provenance": [],
      "collapsed_sections": [],
      "authorship_tag": "ABX9TyNNWieETgVYEk7zAX/bdqGR",
      "include_colab_link": true
    },
    "kernelspec": {
      "name": "python3",
      "display_name": "Python 3"
    },
    "language_info": {
      "name": "python"
    }
  },
  "cells": [
    {
      "cell_type": "markdown",
      "metadata": {
        "id": "view-in-github",
        "colab_type": "text"
      },
      "source": [
        "<a href=\"https://colab.research.google.com/github/silas1407/PROJECT-14-MAIN/blob/main/Untitled0.ipynb\" target=\"_parent\"><img src=\"https://colab.research.google.com/assets/colab-badge.svg\" alt=\"Open In Colab\"/></a>"
      ]
    },
    {
      "cell_type": "code",
      "execution_count": 3,
      "metadata": {
        "colab": {
          "base_uri": "https://localhost:8080/"
        },
        "id": "eyklukeFgZ9P",
        "outputId": "3575973b-1fee-4a11-8422-0d365060bdf2"
      },
      "outputs": [
        {
          "output_type": "stream",
          "name": "stdout",
          "text": [
            "['Bread', 'Onion', 'Lettuce', 'Sauce', 'Cheese', 'Tomato', 'Bread']\n"
          ]
        }
      ],
      "source": [
        "sandwich=[\"Bread\",\"Onion\",\"Lettuce\",\"Sauce\",\"Cheese\",\"Tomato\",\"Bread\"]\n",
        "print(sandwich)\n"
      ]
    },
    {
      "cell_type": "code",
      "source": [
        "print(sandwich[1:6])"
      ],
      "metadata": {
        "colab": {
          "base_uri": "https://localhost:8080/"
        },
        "id": "3dOrU7gdh1o-",
        "outputId": "5141ca2f-30bc-4893-b914-09887852d20f"
      },
      "execution_count": 5,
      "outputs": [
        {
          "output_type": "stream",
          "name": "stdout",
          "text": [
            "['Onion', 'Lettuce', 'Sauce', 'Cheese', 'Tomato']\n"
          ]
        }
      ]
    },
    {
      "cell_type": "code",
      "source": [
        "print(sandwich[0:7:2])"
      ],
      "metadata": {
        "colab": {
          "base_uri": "https://localhost:8080/"
        },
        "id": "c6VYaBoci4zT",
        "outputId": "a6443e1d-df69-49e9-93e7-9d9972600d38"
      },
      "execution_count": 14,
      "outputs": [
        {
          "output_type": "stream",
          "name": "stdout",
          "text": [
            "['Bread', 'Lettuce', 'Cheese', 'Bread']\n"
          ]
        }
      ]
    }
  ]
}